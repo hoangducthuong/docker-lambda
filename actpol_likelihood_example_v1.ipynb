{
 "cells": [
  {
   "cell_type": "code",
   "execution_count": 1,
   "metadata": {
    "collapsed": true
   },
   "outputs": [],
   "source": [
    "%matplotlib inline\n",
    "import numpy as np\n",
    "import matplotlib.pyplot as plt\n",
    "import sys\n",
    "sys.path.append('./actpols2')\n",
    "import act_like\n",
    "import camb"
   ]
  },
  {
   "cell_type": "code",
   "execution_count": 2,
   "metadata": {
    "collapsed": true
   },
   "outputs": [],
   "source": [
    "# we start by setting the directory containing the ACTPol likelihood data files\n",
    "data_dir = './actpols2/data/'\n",
    "act = act_like.ACTPol_s2(data_dir)"
   ]
  },
  {
   "cell_type": "code",
   "execution_count": 3,
   "metadata": {
    "collapsed": false
   },
   "outputs": [
    {
     "name": "stdout",
     "output_type": "stream",
     "text": [
      "Expected: 147.747797921459\n",
      "Found   : 147.747797921459\n"
     ]
    }
   ],
   "source": [
    "# this is a test function provided in the likelihood code that basically just checks files can all be loaded OK\n",
    "act.test()"
   ]
  },
  {
   "cell_type": "code",
   "execution_count": 4,
   "metadata": {
    "collapsed": true
   },
   "outputs": [],
   "source": [
    "#Set up a new set of parameters for CAMB\n",
    "pars = camb.CAMBparams()\n",
    "#This function sets up CosmoMC-like settings, with one massive neutrino and helium set using BBN consistency\n",
    "pars.set_cosmology(H0=67.5, ombh2=0.022, omch2=0.122, mnu=0.06, omk=0, tau=0.06)\n",
    "pars.InitPower.set_params(ns=0.965, r=0, As=2.5e-09)\n",
    "pars.set_for_lmax(6000, lens_potential_accuracy=2);\n",
    "\n",
    "#calculate results for these parameters\n",
    "results = camb.get_results(pars)\n",
    "\n",
    "powers = results.get_cmb_power_spectra(pars)\n",
    "\n",
    "totCL = powers['total']"
   ]
  },
  {
   "cell_type": "code",
   "execution_count": 5,
   "metadata": {
    "collapsed": false
   },
   "outputs": [
    {
     "name": "stdout",
     "output_type": "stream",
     "text": [
      "148.897856086\n"
     ]
    }
   ],
   "source": [
    "# Evaluating the log-likelihood\n",
    "# - need to be careful about ordering of Cl arrays - the ACTPol likelihood code expects TT, then TE, then EE\n",
    "# - final parameter is a polarization angle nuisance parameter, let's not worry about that here\n",
    "# - loglike() returns the negative log-likelihood, the factor of two converts to a chi-squared\n",
    "print 2*act.loglike(totCL[2:6001,0]*1e12*2*np.pi, totCL[2:6001,3]*1e12*2*np.pi, totCL[2:6001,1]*1e12*2*np.pi, 0.98)"
   ]
  },
  {
   "cell_type": "code",
   "execution_count": null,
   "metadata": {
    "collapsed": true
   },
   "outputs": [],
   "source": []
  }
 ],
 "metadata": {
  "kernelspec": {
   "display_name": "Python 2",
   "language": "python",
   "name": "python2"
  },
  "language_info": {
   "codemirror_mode": {
    "name": "ipython",
    "version": 2
   },
   "file_extension": ".py",
   "mimetype": "text/x-python",
   "name": "python",
   "nbconvert_exporter": "python",
   "pygments_lexer": "ipython2",
   "version": "2.7.12"
  }
 },
 "nbformat": 4,
 "nbformat_minor": 2
}
