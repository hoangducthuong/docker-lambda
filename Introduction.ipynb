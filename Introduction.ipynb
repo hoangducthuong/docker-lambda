{
 "cells": [
  {
   "cell_type": "markdown",
   "metadata": {},
   "source": [
    "# Introdution"
   ]
  },
  {
   "cell_type": "markdown",
   "metadata": {},
   "source": [
    "This is an interactive Jupyter notebook supplied by LAMBDA. Code can be run on these notebooks. A limited amount of processing power and memory is avaible for each instance."
   ]
  },
  {
   "cell_type": "markdown",
   "metadata": {},
   "source": [
    "## Installed Libraries"
   ]
  },
  {
   "cell_type": "markdown",
   "metadata": {},
   "source": [
    "Many different libraries are installed in this container. It is based off of the jupyer/scipy-notebook container with libraries useful for CMB analysis installed. All output shown in this notebook was run in the container, downloaded locally, and then recopied back to the container so the outputs could be saved."
   ]
  },
  {
   "cell_type": "code",
   "execution_count": 4,
   "metadata": {
    "collapsed": false
   },
   "outputs": [
    {
     "name": "stdout",
     "output_type": "stream",
     "text": [
      "<module 'numpy' from '/opt/local/Library/Frameworks/Python.framework/Versions/2.7/lib/python2.7/site-packages/numpy/__init__.pyc'>\n",
      "<module 'scipy' from '/opt/local/Library/Frameworks/Python.framework/Versions/2.7/lib/python2.7/site-packages/scipy/__init__.pyc'>\n",
      "<module 'astropy' from '/opt/local/Library/Frameworks/Python.framework/Versions/2.7/lib/python2.7/site-packages/astropy/__init__.pyc'>\n",
      "<module 'healpy' from '/opt/local/Library/Frameworks/Python.framework/Versions/2.7/lib/python2.7/site-packages/healpy/__init__.pyc'>\n",
      "<module 'matplotlib' from '/opt/local/Library/Frameworks/Python.framework/Versions/2.7/lib/python2.7/site-packages/matplotlib/__init__.pyc'>\n",
      "<module 'cmb_footprint' from '/Users/njmille2/LAMBDA/cmb_footprint/__init__.pyc'>\n",
      "<module 'cmb_analysis' from '/Users/njmille2/LAMBDA/cmb_analysis/__init__.pyc'>\n"
     ]
    }
   ],
   "source": [
    "import numpy\n",
    "import scipy\n",
    "import astropy\n",
    "import healpy\n",
    "import matplotlib\n",
    "\n",
    "import camb\n",
    "import classy\n",
    "\n",
    "import cmb_footprint\n",
    "import cmb_analysis\n",
    "\n",
    "print(numpy)\n",
    "print(scipy)\n",
    "print(astropy)\n",
    "print(healpy)\n",
    "print(matplotlib)\n",
    "print(cmb_footprint)\n",
    "print(cmb_analysis)\n",
    "print(camb)\n",
    "print(classy)"
   ]
  },
  {
   "cell_type": "code",
   "execution_count": null,
   "metadata": {
    "collapsed": true
   },
   "outputs": [],
   "source": []
  }
 ],
 "metadata": {
  "kernelspec": {
   "display_name": "Python 2",
   "language": "python",
   "name": "python2"
  },
  "language_info": {
   "codemirror_mode": {
    "name": "ipython",
    "version": 2
   },
   "file_extension": ".py",
   "mimetype": "text/x-python",
   "name": "python",
   "nbconvert_exporter": "python",
   "pygments_lexer": "ipython2",
   "version": "2.7.13"
  }
 },
 "nbformat": 4,
 "nbformat_minor": 2
}
